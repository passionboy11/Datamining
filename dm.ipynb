{
 "cells": [
  {
   "cell_type": "code",
   "execution_count": 1,
   "id": "d1c68dde",
   "metadata": {},
   "outputs": [
    {
     "name": "stdout",
     "output_type": "stream",
     "text": [
      "learning git\n"
     ]
    }
   ],
   "source": [
    "print('learning git')"
   ]
  },
  {
   "cell_type": "code",
   "execution_count": null,
   "id": "393310a6",
   "metadata": {},
   "outputs": [],
   "source": [
    "print('pukar hero')"
   ]
  },
  {
   "cell_type": "code",
   "execution_count": null,
   "id": "afbfbb77",
   "metadata": {},
   "outputs": [],
   "source": []
  }
 ],
 "metadata": {
  "kernelspec": {
   "display_name": "deeplearning",
   "language": "python",
   "name": "python3"
  },
  "language_info": {
   "codemirror_mode": {
    "name": "ipython",
    "version": 3
   },
   "file_extension": ".py",
   "mimetype": "text/x-python",
   "name": "python",
   "nbconvert_exporter": "python",
   "pygments_lexer": "ipython3",
   "version": "3.9.18"
  }
 },
 "nbformat": 4,
 "nbformat_minor": 5
}
